{
 "cells": [
  {
   "cell_type": "code",
   "execution_count": 1,
   "id": "819899c9-1b22-4b0b-a3e3-0389a4e76cce",
   "metadata": {},
   "outputs": [],
   "source": [
    "# 自定义排序\n",
    "# operator.itemgetter 库"
   ]
  },
  {
   "cell_type": "code",
   "execution_count": 2,
   "id": "7c2ce0d2-98b3-43c2-aa0d-b9d468543377",
   "metadata": {},
   "outputs": [],
   "source": [
    "from operator import itemgetter"
   ]
  },
  {
   "cell_type": "code",
   "execution_count": 3,
   "id": "db5756ab-f5f8-46f6-8795-c9f6f4d5a1ee",
   "metadata": {},
   "outputs": [],
   "source": [
    "rows= [\n",
    "{'fname': 'Brian','lname': 'Jones', 'uid': 1003},\n",
    "{'fname': 'David','lname': 'Beazley', 'uid': 1002},\n",
    "{'fname': 'John', 'lname': 'Cleese', 'uid': 1001},\n",
    "{'fname': 'Big', 'lname': 'Jones', 'uid':1004}\n",
    "]"
   ]
  },
  {
   "cell_type": "code",
   "execution_count": 4,
   "id": "a39a188d-dffd-4eb7-8268-c638c7cf9845",
   "metadata": {},
   "outputs": [
    {
     "data": {
      "text/plain": [
       "[{'fname': 'Big', 'lname': 'Jones', 'uid': 1004},\n",
       " {'fname': 'Brian', 'lname': 'Jones', 'uid': 1003},\n",
       " {'fname': 'David', 'lname': 'Beazley', 'uid': 1002},\n",
       " {'fname': 'John', 'lname': 'Cleese', 'uid': 1001}]"
      ]
     },
     "execution_count": 4,
     "metadata": {},
     "output_type": "execute_result"
    }
   ],
   "source": [
    "rows_by_fname = sorted(rows,key=itemgetter('fname'))\n",
    "rows_by_fname"
   ]
  },
  {
   "cell_type": "code",
   "execution_count": 5,
   "id": "b94fa5b5-d275-4a7a-b1bf-cf269a3a1dbd",
   "metadata": {},
   "outputs": [
    {
     "data": {
      "text/plain": [
       "[{'fname': 'John', 'lname': 'Cleese', 'uid': 1001},\n",
       " {'fname': 'David', 'lname': 'Beazley', 'uid': 1002},\n",
       " {'fname': 'Brian', 'lname': 'Jones', 'uid': 1003},\n",
       " {'fname': 'Big', 'lname': 'Jones', 'uid': 1004}]"
      ]
     },
     "execution_count": 5,
     "metadata": {},
     "output_type": "execute_result"
    }
   ],
   "source": [
    "rows_by_ids = sorted(rows,key=itemgetter('uid'))\n",
    "rows_by_ids"
   ]
  },
  {
   "cell_type": "code",
   "execution_count": 7,
   "id": "fa9d8a4d-b9ab-4a53-8b5a-2e8289e943fb",
   "metadata": {},
   "outputs": [
    {
     "data": {
      "text/plain": [
       "[{'fname': 'Big', 'lname': 'Jones', 'uid': 1004},\n",
       " {'fname': 'Brian', 'lname': 'Jones', 'uid': 1003},\n",
       " {'fname': 'David', 'lname': 'Beazley', 'uid': 1002},\n",
       " {'fname': 'John', 'lname': 'Cleese', 'uid': 1001}]"
      ]
     },
     "execution_count": 7,
     "metadata": {},
     "output_type": "execute_result"
    }
   ],
   "source": [
    "# 多个key参数排序\n",
    "rows_by = sorted(rows,key=itemgetter('fname','lname'))\n",
    "rows_by"
   ]
  },
  {
   "cell_type": "code",
   "execution_count": 10,
   "id": "01424ecc-82e7-490f-9f53-45d1f006a435",
   "metadata": {},
   "outputs": [
    {
     "data": {
      "text/plain": [
       "[{'fname': 'Big', 'lname': 'Jones', 'uid': 1004},\n",
       " {'fname': 'Brian', 'lname': 'Jones', 'uid': 1003},\n",
       " {'fname': 'David', 'lname': 'Beazley', 'uid': 1002},\n",
       " {'fname': 'John', 'lname': 'Cleese', 'uid': 1001}]"
      ]
     },
     "execution_count": 10,
     "metadata": {},
     "output_type": "execute_result"
    }
   ],
   "source": [
    "# 也可以使用lambda表达式来实现自定义排序，但是速度没有itemgetter 快。\n",
    "sorted(rows,key=lambda x:x['fname'])"
   ]
  },
  {
   "cell_type": "code",
   "execution_count": 11,
   "id": "550c6af3-0f7e-47bd-8a5a-20bdc42ed872",
   "metadata": {},
   "outputs": [
    {
     "data": {
      "text/plain": [
       "[{'fname': 'David', 'lname': 'Beazley', 'uid': 1002},\n",
       " {'fname': 'John', 'lname': 'Cleese', 'uid': 1001},\n",
       " {'fname': 'Big', 'lname': 'Jones', 'uid': 1004},\n",
       " {'fname': 'Brian', 'lname': 'Jones', 'uid': 1003}]"
      ]
     },
     "execution_count": 11,
     "metadata": {},
     "output_type": "execute_result"
    }
   ],
   "source": [
    "sorted(rows,key=lambda x:(x['lname'],x['fname']))"
   ]
  },
  {
   "cell_type": "markdown",
   "id": "41728a22-43a0-42a6-ab7f-750d80d89c8c",
   "metadata": {},
   "source": [
    "#### max,min,sort,等支持key参数的函数也可以使用itemgetter"
   ]
  },
  {
   "cell_type": "markdown",
   "id": "feeecc43-506a-45ff-bf77-d64741813304",
   "metadata": {},
   "source": [
    "#### 类排序"
   ]
  },
  {
   "cell_type": "code",
   "execution_count": 15,
   "id": "9cfce400-2183-450e-b851-b4c7d2004e18",
   "metadata": {},
   "outputs": [],
   "source": [
    "class User:\n",
    "    def __init__(self,user_id):\n",
    "        self.user_id = user_id\n",
    "        \n",
    "    def __repr__(self):\n",
    "        return f'User({self.user_id})'"
   ]
  },
  {
   "cell_type": "code",
   "execution_count": 16,
   "id": "5478bd31-7f04-4dc0-9cfc-52c3a5a2c865",
   "metadata": {},
   "outputs": [],
   "source": [
    "users = [User(23),User(3),User(100),User(99)]"
   ]
  },
  {
   "cell_type": "code",
   "execution_count": 17,
   "id": "5261ff2f-5a76-431b-bb41-898fa1664540",
   "metadata": {},
   "outputs": [
    {
     "data": {
      "text/plain": [
       "[User(23), User(3), User(100), User(99)]"
      ]
     },
     "execution_count": 17,
     "metadata": {},
     "output_type": "execute_result"
    }
   ],
   "source": [
    "users"
   ]
  },
  {
   "cell_type": "code",
   "execution_count": 18,
   "id": "625cc427-73a4-47ad-a3ca-ea08de11d21e",
   "metadata": {},
   "outputs": [
    {
     "data": {
      "text/plain": [
       "[User(3), User(23), User(99), User(100)]"
      ]
     },
     "execution_count": 18,
     "metadata": {},
     "output_type": "execute_result"
    }
   ],
   "source": [
    "sorted(users,key=lambda x:x.user_id)"
   ]
  },
  {
   "cell_type": "markdown",
   "id": "d4e4bb80-c875-4219-b09b-b329cdf2fb70",
   "metadata": {},
   "source": [
    "##### 使用operator.attrgetter()来代替lambda"
   ]
  },
  {
   "cell_type": "code",
   "execution_count": 19,
   "id": "b18a8e23-e17b-4c60-a871-22b4139568cb",
   "metadata": {},
   "outputs": [
    {
     "data": {
      "text/plain": [
       "[User(3), User(23), User(99), User(100)]"
      ]
     },
     "execution_count": 19,
     "metadata": {},
     "output_type": "execute_result"
    }
   ],
   "source": [
    "from operator import attrgetter\n",
    "sorted(users,key=attrgetter('user_id'))"
   ]
  },
  {
   "cell_type": "code",
   "execution_count": 20,
   "id": "ea202cb3-a440-49d4-9fe0-2e8249109bfa",
   "metadata": {},
   "outputs": [
    {
     "data": {
      "text/plain": [
       "User(100)"
      ]
     },
     "execution_count": 20,
     "metadata": {},
     "output_type": "execute_result"
    }
   ],
   "source": [
    "max(users,key=attrgetter('user_id'))"
   ]
  },
  {
   "cell_type": "code",
   "execution_count": 21,
   "id": "f6db9a58-e2f8-4be5-bac7-cb16cb5a4211",
   "metadata": {},
   "outputs": [],
   "source": [
    "rows= [\n",
    "{'address': '5412 NCLARK', 'date': '07/01/2012'},\n",
    "{'address': '5148 NCLARK', 'date': '07/04/2012'},\n",
    "{'address': '5800 E58TH', 'date': '07/02/2012'},\n",
    "{'address': '2122 NCLARK', 'date': '07/03/2012'},\n",
    "{'address': '5645 NRAVENSWOOD', 'date':'07/02/2012'},\n",
    "{'address': '1060 WADDISON', 'date': '07/02/2012'},\n",
    "{'address': '4801 NBROADWAY', 'date': '07/01/2012'},\n",
    "{'address': '1039 WGRANVILLE', 'date':'07/04/2012'},\n",
    "]"
   ]
  },
  {
   "cell_type": "code",
   "execution_count": 22,
   "id": "236e180f-89f2-4f93-93ad-8ceef4d32ee9",
   "metadata": {},
   "outputs": [],
   "source": [
    "from operator import itemgetter\n",
    "from itertools import groupby\n",
    "\n",
    "rows.sort(key=itemgetter('date'))"
   ]
  },
  {
   "cell_type": "markdown",
   "id": "cd9229a9-6fab-4a01-be48-187b6c5dc827",
   "metadata": {},
   "source": [
    "groupby() 函数扫描整个序列并且查找连续相同值(或者根据指定key函数返回值相同)的元\n",
    "素序列。 在每次迭代的时候，它会返回一个值和一个迭代器对象， 这个迭代器对象可以\n",
    "生成元素值全部等于上面那个值的组中所有对象。"
   ]
  },
  {
   "cell_type": "code",
   "execution_count": 23,
   "id": "ce49252f-ce82-4474-9154-8dfc386c8725",
   "metadata": {},
   "outputs": [
    {
     "name": "stdout",
     "output_type": "stream",
     "text": [
      "07/01/2012\n",
      "  {'address': '5412 NCLARK', 'date': '07/01/2012'}\n",
      "  {'address': '4801 NBROADWAY', 'date': '07/01/2012'}\n",
      "07/02/2012\n",
      "  {'address': '5800 E58TH', 'date': '07/02/2012'}\n",
      "  {'address': '5645 NRAVENSWOOD', 'date': '07/02/2012'}\n",
      "  {'address': '1060 WADDISON', 'date': '07/02/2012'}\n",
      "07/03/2012\n",
      "  {'address': '2122 NCLARK', 'date': '07/03/2012'}\n",
      "07/04/2012\n",
      "  {'address': '5148 NCLARK', 'date': '07/04/2012'}\n",
      "  {'address': '1039 WGRANVILLE', 'date': '07/04/2012'}\n"
     ]
    }
   ],
   "source": [
    "for date,items in groupby(rows,key=itemgetter('date')):\n",
    "    print(date)\n",
    "    for item in items:\n",
    "        print(' ',item)"
   ]
  },
  {
   "cell_type": "code",
   "execution_count": 27,
   "id": "d40ef693-ffac-4853-8fce-98d91270e398",
   "metadata": {},
   "outputs": [],
   "source": [
    "# 实现一键多值，且键不存在时不会报错\n",
    "from collections import defaultdict\n"
   ]
  },
  {
   "cell_type": "code",
   "execution_count": 42,
   "id": "d3f171a2-ff23-4370-8402-fb1d7c4bbcf5",
   "metadata": {},
   "outputs": [],
   "source": [
    "# 普通做法\n",
    "d={}\n",
    "z = [('a',1),('b',2),('c',3),('d',4),('a',5),('b',6),('c',7)]"
   ]
  },
  {
   "cell_type": "code",
   "execution_count": 38,
   "id": "282451ff-b926-4ba3-9937-45b05ec2c44e",
   "metadata": {},
   "outputs": [],
   "source": [
    "for k,v in z:\n",
    "    if k not in d:\n",
    "        d[k]=[]\n",
    "    d[k].append(v)"
   ]
  },
  {
   "cell_type": "code",
   "execution_count": 39,
   "id": "8d0cff08-28d0-4b42-ad7e-fbb4c3378592",
   "metadata": {},
   "outputs": [
    {
     "data": {
      "text/plain": [
       "{'a': [1, 5], 'b': [2, 6], 'c': [3, 7], 'd': [4]}"
      ]
     },
     "execution_count": 39,
     "metadata": {},
     "output_type": "execute_result"
    }
   ],
   "source": [
    "d"
   ]
  },
  {
   "cell_type": "code",
   "execution_count": 51,
   "id": "98848068-1119-4a8c-b6af-0d75abd93e2c",
   "metadata": {},
   "outputs": [],
   "source": [
    "# 使用defaultdict\n",
    "d = defaultdict(list)\n",
    "for k,v in z:\n",
    "    # 不需要判断键是否存在\n",
    "    d[k].append(v)"
   ]
  },
  {
   "cell_type": "markdown",
   "id": "086469b6-a57a-4cd4-926c-0ae59e7d9965",
   "metadata": {},
   "source": [
    "#### 查找序列中出现次数最多的元素"
   ]
  },
  {
   "cell_type": "code",
   "execution_count": 54,
   "id": "51a78e16-cd62-4d94-a6c8-680dc03911fe",
   "metadata": {},
   "outputs": [],
   "source": [
    "from collections import Counter"
   ]
  },
  {
   "cell_type": "code",
   "execution_count": 58,
   "id": "b7f6d13d-b06a-4e77-933b-619d51ad187f",
   "metadata": {},
   "outputs": [],
   "source": [
    "# 词频统计\n",
    "words = [\n",
    "'look', 'into', 'my', 'eyes', 'look', 'into', 'my', 'eyes',\n",
    "'the', 'eyes', 'the', 'eyes', 'the', 'eyes', 'not', 'around', 'the',\n",
    "'eyes', \"don't\", 'look', 'around', 'the','eyes', 'look', 'into',\n",
    "'my', 'eyes', \"you're\", 'under'\n",
    "]\n",
    "morewords = ['why','are','you','not','looking','in','my','eyes']"
   ]
  },
  {
   "cell_type": "code",
   "execution_count": 60,
   "id": "5c4a15ee-d451-48b6-8fe8-65ff7b23c6a3",
   "metadata": {},
   "outputs": [],
   "source": [
    "wc = Counter(words)\n",
    "wm = Counter(morewords)"
   ]
  },
  {
   "cell_type": "code",
   "execution_count": 57,
   "id": "13389fff-fe54-49b2-8b5b-bbdba9bd858a",
   "metadata": {},
   "outputs": [
    {
     "data": {
      "text/plain": [
       "[('eyes', 8), ('the', 5)]"
      ]
     },
     "execution_count": 57,
     "metadata": {},
     "output_type": "execute_result"
    }
   ],
   "source": [
    "wc.most_common(2)"
   ]
  },
  {
   "cell_type": "code",
   "execution_count": 61,
   "id": "03091224-ac77-474f-b12f-dc96d99d5c27",
   "metadata": {},
   "outputs": [
    {
     "data": {
      "text/plain": [
       "Counter({'look': 4,\n",
       "         'into': 3,\n",
       "         'my': 4,\n",
       "         'eyes': 9,\n",
       "         'the': 5,\n",
       "         'not': 2,\n",
       "         'around': 2,\n",
       "         \"don't\": 1,\n",
       "         \"you're\": 1,\n",
       "         'under': 1,\n",
       "         'why': 1,\n",
       "         'are': 1,\n",
       "         'you': 1,\n",
       "         'looking': 1,\n",
       "         'in': 1})"
      ]
     },
     "execution_count": 61,
     "metadata": {},
     "output_type": "execute_result"
    }
   ],
   "source": [
    "wc+wm"
   ]
  },
  {
   "cell_type": "code",
   "execution_count": 62,
   "id": "7a98f237-b4be-4aa4-9fdc-d61612f8b6bf",
   "metadata": {},
   "outputs": [
    {
     "data": {
      "text/plain": [
       "Counter({'look': 4,\n",
       "         'into': 3,\n",
       "         'my': 2,\n",
       "         'eyes': 7,\n",
       "         'the': 5,\n",
       "         'around': 2,\n",
       "         \"don't\": 1,\n",
       "         \"you're\": 1,\n",
       "         'under': 1})"
      ]
     },
     "execution_count": 62,
     "metadata": {},
     "output_type": "execute_result"
    }
   ],
   "source": [
    "wc-wm"
   ]
  },
  {
   "cell_type": "code",
   "execution_count": 75,
   "id": "0b0d988b-e65a-4887-af8a-560ce3d2860e",
   "metadata": {},
   "outputs": [],
   "source": [
    "lst=[1,2,4,5,8,7]"
   ]
  },
  {
   "cell_type": "code",
   "execution_count": null,
   "id": "b5579831-1de4-48a4-afc8-c2156d0b1618",
   "metadata": {},
   "outputs": [],
   "source": []
  },
  {
   "cell_type": "code",
   "execution_count": null,
   "id": "b90a0611-5c11-4a39-b6db-0aa0bb55c191",
   "metadata": {},
   "outputs": [],
   "source": []
  },
  {
   "cell_type": "code",
   "execution_count": null,
   "id": "d2e64778-87e6-421a-9d1e-9437996bf5d4",
   "metadata": {},
   "outputs": [],
   "source": []
  },
  {
   "cell_type": "code",
   "execution_count": null,
   "id": "96f15970-2041-49e4-8019-ec3a12fdedc3",
   "metadata": {},
   "outputs": [],
   "source": []
  },
  {
   "cell_type": "code",
   "execution_count": null,
   "id": "1b4932eb-a37f-4b72-b7bd-ad71ccc0936b",
   "metadata": {},
   "outputs": [],
   "source": []
  },
  {
   "cell_type": "code",
   "execution_count": null,
   "id": "25902a19-0622-40dd-b355-ae2dae71cfc9",
   "metadata": {},
   "outputs": [],
   "source": []
  }
 ],
 "metadata": {
  "kernelspec": {
   "display_name": "Python 3",
   "language": "python",
   "name": "python3"
  },
  "language_info": {
   "codemirror_mode": {
    "name": "ipython",
    "version": 3
   },
   "file_extension": ".py",
   "mimetype": "text/x-python",
   "name": "python",
   "nbconvert_exporter": "python",
   "pygments_lexer": "ipython3",
   "version": "3.8.8"
  }
 },
 "nbformat": 4,
 "nbformat_minor": 5
}
