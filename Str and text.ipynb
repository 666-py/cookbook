{
 "cells": [
  {
   "cell_type": "code",
   "execution_count": 1,
   "id": "02181954-35f0-44d3-b228-953f609185fc",
   "metadata": {},
   "outputs": [],
   "source": [
    "import pandas as pd\n",
    "import numpy as np"
   ]
  },
  {
   "cell_type": "code",
   "execution_count": 4,
   "id": "578c8864-bde5-403d-aec6-0868ec7d77b4",
   "metadata": {},
   "outputs": [],
   "source": [
    "df = pd.DataFrame({'x':['i like acm,and it'],'y':['it is acm.this is exp!...']})"
   ]
  },
  {
   "cell_type": "code",
   "execution_count": 5,
   "id": "27b2d79f-fe40-4c24-aa20-c0965f271699",
   "metadata": {},
   "outputs": [
    {
     "data": {
      "text/html": [
       "<div>\n",
       "<style scoped>\n",
       "    .dataframe tbody tr th:only-of-type {\n",
       "        vertical-align: middle;\n",
       "    }\n",
       "\n",
       "    .dataframe tbody tr th {\n",
       "        vertical-align: top;\n",
       "    }\n",
       "\n",
       "    .dataframe thead th {\n",
       "        text-align: right;\n",
       "    }\n",
       "</style>\n",
       "<table border=\"1\" class=\"dataframe\">\n",
       "  <thead>\n",
       "    <tr style=\"text-align: right;\">\n",
       "      <th></th>\n",
       "      <th>x</th>\n",
       "      <th>y</th>\n",
       "    </tr>\n",
       "  </thead>\n",
       "  <tbody>\n",
       "    <tr>\n",
       "      <th>0</th>\n",
       "      <td>i like acm,and it</td>\n",
       "      <td>it is acm.this is exp!...</td>\n",
       "    </tr>\n",
       "  </tbody>\n",
       "</table>\n",
       "</div>"
      ],
      "text/plain": [
       "                   x                          y\n",
       "0  i like acm,and it  it is acm.this is exp!..."
      ]
     },
     "execution_count": 5,
     "metadata": {},
     "output_type": "execute_result"
    }
   ],
   "source": [
    "df"
   ]
  },
  {
   "cell_type": "code",
   "execution_count": 7,
   "id": "d01a2932-28ed-40a2-8e53-411f5438d43d",
   "metadata": {},
   "outputs": [
    {
     "data": {
      "text/plain": [
       "0    [i, like, acm, and, it]\n",
       "Name: x, dtype: object"
      ]
     },
     "execution_count": 7,
     "metadata": {},
     "output_type": "execute_result"
    }
   ],
   "source": [
    "df.x.str.split(r'[\\s,]')"
   ]
  },
  {
   "cell_type": "code",
   "execution_count": 8,
   "id": "fbdb49a3-34d6-49d2-9915-eb8ae47ec73b",
   "metadata": {},
   "outputs": [
    {
     "data": {
      "text/plain": [
       "0    [i, like, acm, and, it]\n",
       "Name: x, dtype: object"
      ]
     },
     "execution_count": 8,
     "metadata": {},
     "output_type": "execute_result"
    }
   ],
   "source": [
    "df.x.str.split(r'\\s|,')"
   ]
  },
  {
   "cell_type": "code",
   "execution_count": 9,
   "id": "05ebc23d-6b48-4747-8213-f98c06d548f5",
   "metadata": {},
   "outputs": [],
   "source": [
    "line = 'asdf fjdk;afed, fjek,asdf, foo'"
   ]
  },
  {
   "cell_type": "code",
   "execution_count": 13,
   "id": "d270838d-b375-480b-8ecc-97437adfd941",
   "metadata": {},
   "outputs": [
    {
     "data": {
      "text/plain": [
       "['asdf', 'fjdk', 'afed', 'fjek', 'asdf', 'foo']"
      ]
     },
     "execution_count": 13,
     "metadata": {},
     "output_type": "execute_result"
    }
   ],
   "source": [
    "import re\n",
    "re.split(r'[\\s,;]\\s*',line)"
   ]
  },
  {
   "cell_type": "code",
   "execution_count": 14,
   "id": "991d45ad-c7ef-4edf-a514-b174399d08f2",
   "metadata": {},
   "outputs": [
    {
     "data": {
      "text/plain": [
       "['asdf', ' ', 'fjdk', ';', 'afed', ',', 'fjek', ',', 'asdf', ',', 'foo']"
      ]
     },
     "execution_count": 14,
     "metadata": {},
     "output_type": "execute_result"
    }
   ],
   "source": [
    "# 使用()捕获分组\n",
    "re.split(r'(,|;|\\s)\\s*',line)"
   ]
  },
  {
   "cell_type": "code",
   "execution_count": 15,
   "id": "94000c63-8aa1-4d18-91af-3ee41818791f",
   "metadata": {},
   "outputs": [
    {
     "data": {
      "text/plain": [
       "['asdf', 'fjdk', 'afed', 'fjek', 'asdf', 'foo']"
      ]
     },
     "execution_count": 15,
     "metadata": {},
     "output_type": "execute_result"
    }
   ],
   "source": [
    "# 非捕获分组  (?:)\n",
    "re.split(r'(?:,|;|\\s)\\s*',line)"
   ]
  },
  {
   "cell_type": "markdown",
   "id": "89e30815-1af9-4d33-8333-b9943e2248d5",
   "metadata": {},
   "source": [
    "### 字符串开头和结尾"
   ]
  },
  {
   "cell_type": "code",
   "execution_count": 17,
   "id": "70bd2fc4-76d2-422c-bcd9-8333fb7a6538",
   "metadata": {},
   "outputs": [
    {
     "data": {
      "text/plain": [
       "['foo.c', 'spam.c', 'spam.h']"
      ]
     },
     "execution_count": 17,
     "metadata": {},
     "output_type": "execute_result"
    }
   ],
   "source": [
    "filenames = ['Makefile', 'foo.c','bar.py', 'spam.c', 'spam.h']\n",
    "[name for name in filenames if name.endswith(('.c', '.h')) ]\n",
    "# 需要指定多个类型需要用元组！！"
   ]
  },
  {
   "cell_type": "code",
   "execution_count": 18,
   "id": "c5278fc6-5bf4-4bd9-b8af-91d7d98fdac3",
   "metadata": {},
   "outputs": [
    {
     "data": {
      "text/plain": [
       "['2', '57', '8', '2', '8', '1']"
      ]
     },
     "execution_count": 18,
     "metadata": {},
     "output_type": "execute_result"
    }
   ],
   "source": [
    "s='2+57+8*2/8+1'\n",
    "re.split('[+*/]',s)"
   ]
  },
  {
   "cell_type": "code",
   "execution_count": 36,
   "id": "3bdd2731-fdcc-48dd-9a59-39e5172dfbfe",
   "metadata": {},
   "outputs": [
    {
     "data": {
      "text/plain": [
       "['2', '+', '57', '+', '8', '*', '2', '/', '8', '+', '1']"
      ]
     },
     "execution_count": 36,
     "metadata": {},
     "output_type": "execute_result"
    }
   ],
   "source": [
    "re.split(r'(\\+|\\*|/)',s)"
   ]
  },
  {
   "cell_type": "code",
   "execution_count": 38,
   "id": "8f327461-16f6-4e47-a0dc-8e2dd065c959",
   "metadata": {},
   "outputs": [
    {
     "data": {
      "text/plain": [
       "False"
      ]
     },
     "execution_count": 38,
     "metadata": {},
     "output_type": "execute_result"
    }
   ],
   "source": [
    "s.istitle()"
   ]
  },
  {
   "cell_type": "code",
   "execution_count": 39,
   "id": "a0d5789b-9eda-4622-a2ef-8d9e99468e78",
   "metadata": {},
   "outputs": [
    {
     "data": {
      "text/plain": [
       "True"
      ]
     },
     "execution_count": 39,
     "metadata": {},
     "output_type": "execute_result"
    }
   ],
   "source": []
  }
 ],
 "metadata": {
  "kernelspec": {
   "display_name": "Python 3",
   "language": "python",
   "name": "python3"
  },
  "language_info": {
   "codemirror_mode": {
    "name": "ipython",
    "version": 3
   },
   "file_extension": ".py",
   "mimetype": "text/x-python",
   "name": "python",
   "nbconvert_exporter": "python",
   "pygments_lexer": "ipython3",
   "version": "3.8.8"
  }
 },
 "nbformat": 4,
 "nbformat_minor": 5
}
